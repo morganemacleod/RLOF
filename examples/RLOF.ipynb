{
 "cells": [
  {
   "cell_type": "code",
   "execution_count": 1,
   "metadata": {},
   "outputs": [
    {
     "name": "stdout",
     "output_type": "stream",
     "text": [
      "Constants defined...\n"
     ]
    }
   ],
   "source": [
    "import matplotlib.pyplot as plt\n",
    "import numpy as np\n",
    "from astropy.table import Table\n",
    "from Constants import Constants\n",
    "\n",
    "import sys\n",
    "sys.path.append('RLOF/src')\n",
    "from rlof import RLOF\n",
    "\n",
    "\n",
    "%matplotlib inline\n",
    "\n",
    "c = Constants()\n",
    "\n",
    "# set some global options\n",
    "plt.rcParams['figure.figsize'] = (6,5)\n",
    "plt.rcParams['legend.fontsize'] = 14\n",
    "plt.rcParams['legend.borderpad'] = 0.5\n",
    "plt.rcParams['legend.labelspacing'] = 0.5\n",
    "plt.rcParams['legend.handletextpad'] = 0.5\n",
    "plt.rcParams['font.family'] = 'stixgeneral'\n",
    "plt.rcParams['mathtext.fontset'] = 'stix'\n",
    "plt.rcParams['font.size'] = 16"
   ]
  },
  {
   "cell_type": "code",
   "execution_count": 10,
   "metadata": {},
   "outputs": [
    {
     "name": "stdout",
     "output_type": "stream",
     "text": [
      "Constants defined...\n",
      "=== RLOF: binary defined =======\n",
      "('Md0 = ', 2e+33)\n",
      "('Ma0 = ', 1e+33)\n",
      "('Rd0 = ', 7000000000000.0)\n",
      "('Ra0 = ', 0.0)\n",
      "('a0 = ', 14318043924595.418)\n",
      "('G = ', 6.674e-08)\n",
      "----------donor star------------\n",
      "('Md0 = ', 2e+33)\n",
      "('Rd0 = ', 7000000000000.0)\n",
      "('Rdfunc = ', <bound method RLOF.Rdfunc_constant of <rlof.RLOF instance at 0x11b836950>>)\n",
      "('fcorot0 = ', 1.0)\n",
      "('gamma_adiabatic = ', 1.6666666666666667)\n",
      "('gamma_structure = ', 1.6666666666666667)\n",
      "================================\n",
      "---- integration ---------------\n",
      "('solver message: ', 'A termination event occurred.')\n",
      "('events: ', [array([10932558.26689373])])\n",
      "--------------------------------\n",
      "['t', 'Md', 'Rd', 'Ma', 'Ra', 'a']\n"
     ]
    }
   ],
   "source": [
    "r = RLOF(Md0=2.e33,\n",
    "         Ma0=1.e33,\n",
    "         Rd0=7e12,\n",
    "         Ra0=0.0,\n",
    "         Ggrav=6.674e-8,\n",
    "         a0_mode='Roche_limit_fraction',\n",
    "         f_roche_limit=0.9,\n",
    "         gamma_adiabatic=5./3.,\n",
    "         gamma_structure=5./3.,\n",
    "         fcorot0=1.0)\n",
    "\n",
    "sol = r.integrate(2e7,Ntimes=1001)\n",
    "\n",
    "print(sol.keys())"
   ]
  },
  {
   "cell_type": "code",
   "execution_count": 11,
   "metadata": {},
   "outputs": [
    {
     "data": {
      "image/png": "[encoded data removed]",
      "text/plain": [
       "<Figure size 288x216 with 1 Axes>"
      ]
     },
     "metadata": {},
     "output_type": "display_data"
    },
    {
     "data": {
      "image/png": "[encoded data removed]",
      "text/plain": [
       "<Figure size 288x216 with 1 Axes>"
      ]
     },
     "metadata": {},
     "output_type": "display_data"
    }
   ],
   "source": [
    "plt.figure(figsize=(4,3))\n",
    "plt.plot(sol['t'],sol['a'])\n",
    "plt.xlabel('time (seconds)')\n",
    "plt.ylabel('separation (cm)')\n",
    "plt.show()\n",
    "\n",
    "plt.figure(figsize=(4,3))\n",
    "plt.plot(sol['t'],sol['Md'])\n",
    "plt.xlabel('time (seconds)')\n",
    "plt.ylabel('donor mass')\n",
    "plt.show()"
   ]
  },
  {
   "cell_type": "code",
   "execution_count": 49,
   "metadata": {
    "collapsed": true
   },
   "outputs": [],
   "source": []
  },
  {
   "cell_type": "code",
   "execution_count": null,
   "metadata": {
    "collapsed": true
   },
   "outputs": [],
   "source": []
  }
 ],
 "metadata": {
  "kernelspec": {
   "display_name": "Python 2",
   "language": "python",
   "name": "python2"
  },
  "language_info": {
   "codemirror_mode": {
    "name": "ipython",
    "version": 2
   },
   "file_extension": ".py",
   "mimetype": "text/x-python",
   "name": "python",
   "nbconvert_exporter": "python",
   "pygments_lexer": "ipython2",
   "version": "2.7.3"
  }
 },
 "nbformat": 4,
 "nbformat_minor": 1
}
